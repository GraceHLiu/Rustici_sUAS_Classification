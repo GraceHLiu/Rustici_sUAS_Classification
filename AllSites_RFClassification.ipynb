{
 "cells": [
  {
   "cell_type": "code",
   "execution_count": 2,
   "metadata": {},
   "outputs": [],
   "source": [
    "import glob\n",
    "import pandas as pd\n",
    "from dbfread import DBF\n",
    "# read in ROI dbf\n",
    "Input_Raster_dir = 'D:/Box Sync/research/Leslie/Classification_sUAS/'\n",
    "Files = glob.glob(Input_Raster_dir + '/**/Training*.dbf', recursive=True)\n",
    "# Set the output dir\n",
    "Output_dir = 'D:/Box Sync/research/Leslie/Classification_sUAS/Results'"
   ]
  },
  {
   "cell_type": "code",
   "execution_count": 3,
   "metadata": {},
   "outputs": [],
   "source": [
    "# Read in training data table and display first 5 rows\n",
    "features = pd.DataFrame()#creates a new dataframe that's empty\n",
    "for file in Files:\n",
    "    table = DBF(file)\n",
    "    features_temp = pd.DataFrame(iter(table))\n",
    "    features_temp.columns = ['Id','Class','ClassID','Blue','Green','Red','NIR','Rededge','VegHeight','NDVI_April','NDVI_May','NDVI_June','sUAS_NDVI']\n",
    "    features = pd.concat([features, features_temp])"
   ]
  },
  {
   "cell_type": "code",
   "execution_count": 4,
   "metadata": {},
   "outputs": [
    {
     "name": "stdout",
     "output_type": "stream",
     "text": [
      "The shape of our features is: (6014, 13)\n"
     ]
    }
   ],
   "source": [
    "print('The shape of our features is:', features.shape)"
   ]
  },
  {
   "cell_type": "code",
   "execution_count": 5,
   "metadata": {},
   "outputs": [
    {
     "data": {
      "text/html": [
       "<div>\n",
       "<style scoped>\n",
       "    .dataframe tbody tr th:only-of-type {\n",
       "        vertical-align: middle;\n",
       "    }\n",
       "\n",
       "    .dataframe tbody tr th {\n",
       "        vertical-align: top;\n",
       "    }\n",
       "\n",
       "    .dataframe thead th {\n",
       "        text-align: right;\n",
       "    }\n",
       "</style>\n",
       "<table border=\"1\" class=\"dataframe\">\n",
       "  <thead>\n",
       "    <tr style=\"text-align: right;\">\n",
       "      <th></th>\n",
       "      <th>Id</th>\n",
       "      <th>ClassID</th>\n",
       "      <th>Blue</th>\n",
       "      <th>Green</th>\n",
       "      <th>Red</th>\n",
       "      <th>NIR</th>\n",
       "      <th>Rededge</th>\n",
       "      <th>VegHeight</th>\n",
       "      <th>NDVI_April</th>\n",
       "      <th>NDVI_May</th>\n",
       "      <th>NDVI_June</th>\n",
       "      <th>sUAS_NDVI</th>\n",
       "    </tr>\n",
       "  </thead>\n",
       "  <tbody>\n",
       "    <tr>\n",
       "      <th>count</th>\n",
       "      <td>6014.0</td>\n",
       "      <td>6014.000000</td>\n",
       "      <td>6014.000000</td>\n",
       "      <td>6014.000000</td>\n",
       "      <td>6014.000000</td>\n",
       "      <td>6014.000000</td>\n",
       "      <td>6014.000000</td>\n",
       "      <td>6014.000000</td>\n",
       "      <td>6014.000000</td>\n",
       "      <td>6014.000000</td>\n",
       "      <td>6014.000000</td>\n",
       "      <td>6014.000000</td>\n",
       "    </tr>\n",
       "    <tr>\n",
       "      <th>mean</th>\n",
       "      <td>0.0</td>\n",
       "      <td>4.091952</td>\n",
       "      <td>0.056439</td>\n",
       "      <td>0.080925</td>\n",
       "      <td>0.083267</td>\n",
       "      <td>0.146810</td>\n",
       "      <td>0.190996</td>\n",
       "      <td>1.269276</td>\n",
       "      <td>0.271702</td>\n",
       "      <td>0.335083</td>\n",
       "      <td>0.307196</td>\n",
       "      <td>0.409126</td>\n",
       "    </tr>\n",
       "    <tr>\n",
       "      <th>std</th>\n",
       "      <td>0.0</td>\n",
       "      <td>1.905560</td>\n",
       "      <td>0.025642</td>\n",
       "      <td>0.033232</td>\n",
       "      <td>0.059018</td>\n",
       "      <td>0.059349</td>\n",
       "      <td>0.106815</td>\n",
       "      <td>2.639982</td>\n",
       "      <td>0.081154</td>\n",
       "      <td>0.104277</td>\n",
       "      <td>0.091271</td>\n",
       "      <td>0.211000</td>\n",
       "    </tr>\n",
       "    <tr>\n",
       "      <th>min</th>\n",
       "      <td>0.0</td>\n",
       "      <td>1.000000</td>\n",
       "      <td>0.009994</td>\n",
       "      <td>0.012880</td>\n",
       "      <td>0.002409</td>\n",
       "      <td>0.024032</td>\n",
       "      <td>0.007570</td>\n",
       "      <td>-0.650112</td>\n",
       "      <td>0.053282</td>\n",
       "      <td>0.129714</td>\n",
       "      <td>0.124121</td>\n",
       "      <td>-0.057933</td>\n",
       "    </tr>\n",
       "    <tr>\n",
       "      <th>25%</th>\n",
       "      <td>0.0</td>\n",
       "      <td>3.000000</td>\n",
       "      <td>0.039164</td>\n",
       "      <td>0.063471</td>\n",
       "      <td>0.026308</td>\n",
       "      <td>0.114436</td>\n",
       "      <td>0.107117</td>\n",
       "      <td>0.003886</td>\n",
       "      <td>0.210890</td>\n",
       "      <td>0.257341</td>\n",
       "      <td>0.236457</td>\n",
       "      <td>0.223844</td>\n",
       "    </tr>\n",
       "    <tr>\n",
       "      <th>50%</th>\n",
       "      <td>0.0</td>\n",
       "      <td>4.000000</td>\n",
       "      <td>0.053345</td>\n",
       "      <td>0.081959</td>\n",
       "      <td>0.077631</td>\n",
       "      <td>0.150257</td>\n",
       "      <td>0.200437</td>\n",
       "      <td>0.036269</td>\n",
       "      <td>0.248234</td>\n",
       "      <td>0.309466</td>\n",
       "      <td>0.288068</td>\n",
       "      <td>0.403946</td>\n",
       "    </tr>\n",
       "    <tr>\n",
       "      <th>75%</th>\n",
       "      <td>0.0</td>\n",
       "      <td>6.000000</td>\n",
       "      <td>0.072944</td>\n",
       "      <td>0.100389</td>\n",
       "      <td>0.126918</td>\n",
       "      <td>0.183214</td>\n",
       "      <td>0.277415</td>\n",
       "      <td>0.513027</td>\n",
       "      <td>0.331806</td>\n",
       "      <td>0.412376</td>\n",
       "      <td>0.372959</td>\n",
       "      <td>0.602272</td>\n",
       "    </tr>\n",
       "    <tr>\n",
       "      <th>max</th>\n",
       "      <td>0.0</td>\n",
       "      <td>7.000000</td>\n",
       "      <td>0.163086</td>\n",
       "      <td>0.218475</td>\n",
       "      <td>0.326172</td>\n",
       "      <td>0.392057</td>\n",
       "      <td>0.458795</td>\n",
       "      <td>25.400200</td>\n",
       "      <td>0.540891</td>\n",
       "      <td>0.649087</td>\n",
       "      <td>0.616964</td>\n",
       "      <td>0.864393</td>\n",
       "    </tr>\n",
       "  </tbody>\n",
       "</table>\n",
       "</div>"
      ],
      "text/plain": [
       "           Id      ClassID         Blue        Green          Red  \\\n",
       "count  6014.0  6014.000000  6014.000000  6014.000000  6014.000000   \n",
       "mean      0.0     4.091952     0.056439     0.080925     0.083267   \n",
       "std       0.0     1.905560     0.025642     0.033232     0.059018   \n",
       "min       0.0     1.000000     0.009994     0.012880     0.002409   \n",
       "25%       0.0     3.000000     0.039164     0.063471     0.026308   \n",
       "50%       0.0     4.000000     0.053345     0.081959     0.077631   \n",
       "75%       0.0     6.000000     0.072944     0.100389     0.126918   \n",
       "max       0.0     7.000000     0.163086     0.218475     0.326172   \n",
       "\n",
       "               NIR      Rededge    VegHeight   NDVI_April     NDVI_May  \\\n",
       "count  6014.000000  6014.000000  6014.000000  6014.000000  6014.000000   \n",
       "mean      0.146810     0.190996     1.269276     0.271702     0.335083   \n",
       "std       0.059349     0.106815     2.639982     0.081154     0.104277   \n",
       "min       0.024032     0.007570    -0.650112     0.053282     0.129714   \n",
       "25%       0.114436     0.107117     0.003886     0.210890     0.257341   \n",
       "50%       0.150257     0.200437     0.036269     0.248234     0.309466   \n",
       "75%       0.183214     0.277415     0.513027     0.331806     0.412376   \n",
       "max       0.392057     0.458795    25.400200     0.540891     0.649087   \n",
       "\n",
       "         NDVI_June    sUAS_NDVI  \n",
       "count  6014.000000  6014.000000  \n",
       "mean      0.307196     0.409126  \n",
       "std       0.091271     0.211000  \n",
       "min       0.124121    -0.057933  \n",
       "25%       0.236457     0.223844  \n",
       "50%       0.288068     0.403946  \n",
       "75%       0.372959     0.602272  \n",
       "max       0.616964     0.864393  "
      ]
     },
     "execution_count": 5,
     "metadata": {},
     "output_type": "execute_result"
    }
   ],
   "source": [
    "# Descriptive statistics for each column\n",
    "features.describe()"
   ]
  },
  {
   "cell_type": "code",
   "execution_count": 6,
   "metadata": {},
   "outputs": [
    {
     "name": "stdout",
     "output_type": "stream",
     "text": [
      "         Blue     Green       Red       NIR   Rededge  VegHeight  NDVI_April  \\\n",
      "0    0.091952  0.106185  0.143937  0.157177  0.192628   0.126385    0.228142   \n",
      "1    0.087162  0.095235  0.122546  0.136576  0.171924   0.850425    0.226555   \n",
      "2    0.093574  0.101496  0.128537  0.140148  0.174513   1.065720    0.226926   \n",
      "3    0.111606  0.118697  0.152314  0.166813  0.197587   0.687303    0.226372   \n",
      "4    0.046005  0.058446  0.076165  0.093235  0.136567   0.626777    0.229995   \n",
      "5    0.046587  0.054017  0.076584  0.091399  0.142014   0.033571    0.250942   \n",
      "6    0.056383  0.065289  0.096215  0.112271  0.157856   0.011269    0.249963   \n",
      "7    0.067594  0.078522  0.104881  0.116195  0.160354   0.040925    0.252883   \n",
      "8    0.064289  0.072396  0.104702  0.123317  0.165908   0.078159    0.257092   \n",
      "9    0.086794  0.099210  0.134296  0.150704  0.186256   0.025253    0.229462   \n",
      "10   0.090335  0.107933  0.150371  0.161399  0.197377   0.068544    0.226694   \n",
      "11   0.077091  0.077849  0.114429  0.128694  0.174113   0.040858    0.230302   \n",
      "12   0.083846  0.092669  0.129561  0.144306  0.184619   0.107741    0.237923   \n",
      "13   0.078443  0.083778  0.113965  0.128084  0.174708   0.108935    0.242691   \n",
      "14   0.070653  0.081463  0.117598  0.134939  0.175468   0.058397    0.224602   \n",
      "15   0.069440  0.083813  0.122599  0.139101  0.178876   0.134508    0.228176   \n",
      "16   0.068167  0.075076  0.104495  0.122086  0.167760   0.008479    0.231836   \n",
      "17   0.076297  0.087480  0.122199  0.135295  0.178386  -0.000558    0.236126   \n",
      "18   0.060629  0.068419  0.101020  0.118785  0.165917   0.018175    0.235375   \n",
      "19   0.070901  0.080961  0.118128  0.137348  0.180797   0.004288    0.237137   \n",
      "20   0.075148  0.085487  0.109639  0.129603  0.179441  -0.000581    0.241854   \n",
      "21   0.058655  0.065730  0.096268  0.113718  0.161971  -0.005839    0.229914   \n",
      "22   0.073175  0.091140  0.121271  0.137399  0.176166   0.056616    0.229844   \n",
      "23   0.075855  0.095944  0.133211  0.158446  0.200586   0.051458    0.230829   \n",
      "24   0.083321  0.091210  0.113456  0.125631  0.160006   0.043084    0.228302   \n",
      "25   0.064458  0.072292  0.091542  0.110209  0.149916   0.047850    0.223303   \n",
      "26   0.084982  0.095265  0.120881  0.136704  0.169405   0.029937    0.218619   \n",
      "27   0.082812  0.100797  0.127717  0.144466  0.172749   0.067080    0.222066   \n",
      "28   0.078734  0.097110  0.128795  0.150850  0.185873  -0.000385    0.228260   \n",
      "29   0.083099  0.097013  0.128452  0.141069  0.175298   0.046215    0.233057   \n",
      "..        ...       ...       ...       ...       ...        ...         ...   \n",
      "329  0.042599  0.100619  0.065976  0.182419  0.368554   5.350600    0.268042   \n",
      "330  0.039824  0.087071  0.067257  0.165899  0.330894   4.839810    0.285457   \n",
      "331  0.041664  0.078978  0.074687  0.138645  0.257494   9.759470    0.343435   \n",
      "332  0.041533  0.089877  0.073414  0.178054  0.327755   4.358700    0.353215   \n",
      "333  0.037123  0.081189  0.066155  0.155172  0.308555   6.309070    0.325425   \n",
      "334  0.034958  0.084278  0.060901  0.152241  0.297946   6.659710    0.308300   \n",
      "335  0.032594  0.070057  0.055976  0.137083  0.284414   7.219080    0.318037   \n",
      "336  0.035624  0.088624  0.059507  0.166651  0.344897   5.620740    0.305641   \n",
      "337  0.037497  0.083686  0.074283  0.165329  0.308685   5.217090    0.329905   \n",
      "338  0.038252  0.090741  0.066736  0.176680  0.359560   4.519570    0.326198   \n",
      "339  0.031195  0.064422  0.054088  0.127782  0.307112   5.029460    0.329340   \n",
      "340  0.021819  0.038453  0.043127  0.065118  0.155479   4.804300    0.329187   \n",
      "341  0.022234  0.051386  0.036092  0.093224  0.190642   6.555410    0.315443   \n",
      "342  0.037517  0.093939  0.064217  0.181292  0.311109   6.302570    0.314337   \n",
      "343  0.029417  0.067833  0.054157  0.144152  0.269676   6.289150    0.294465   \n",
      "344  0.047671  0.106316  0.084505  0.192503  0.337494   7.884720    0.317862   \n",
      "345  0.044698  0.104829  0.079163  0.191636  0.348396   6.715180    0.317115   \n",
      "346  0.032213  0.075342  0.056084  0.142399  0.300414   7.986700    0.304377   \n",
      "347  0.028335  0.063168  0.045827  0.124260  0.272439   7.469810    0.298329   \n",
      "348  0.037281  0.089098  0.061211  0.177658  0.373092   5.222680    0.296156   \n",
      "349  0.033598  0.073994  0.056558  0.144144  0.300179   5.671680    0.280994   \n",
      "350  0.024992  0.053865  0.037441  0.108631  0.233736   7.276960    0.313180   \n",
      "351  0.033687  0.077478  0.054609  0.149144  0.316916   6.030150    0.317156   \n",
      "352  0.037503  0.087738  0.061132  0.171843  0.364320   7.902660    0.310266   \n",
      "353  0.033221  0.070694  0.054710  0.145651  0.308018   4.701450    0.291765   \n",
      "354  0.038065  0.081931  0.063062  0.162733  0.351590   6.355900    0.311877   \n",
      "355  0.045338  0.098638  0.085138  0.193697  0.354455   4.524310    0.319068   \n",
      "356  0.032325  0.062930  0.054628  0.124147  0.273131   7.049620    0.302768   \n",
      "357  0.035895  0.079101  0.055607  0.141340  0.267583   5.974810    0.229576   \n",
      "358  0.043255  0.093521  0.073459  0.169365  0.330367   4.940590    0.255928   \n",
      "\n",
      "     NDVI_May  NDVI_June  sUAS_NDVI  \n",
      "0    0.246652   0.165636   0.144671  \n",
      "1    0.249433   0.165185   0.167684  \n",
      "2    0.250859   0.168021   0.151710  \n",
      "3    0.253833   0.167397   0.129389  \n",
      "4    0.256580   0.172457   0.283931  \n",
      "5    0.263574   0.180530   0.299314  \n",
      "6    0.258150   0.177170   0.242613  \n",
      "7    0.264681   0.190565   0.209148  \n",
      "8    0.258677   0.203633   0.226178  \n",
      "9    0.248969   0.203753   0.162094  \n",
      "10   0.251777   0.206075   0.135174  \n",
      "11   0.253287   0.205197   0.206846  \n",
      "12   0.252855   0.204314   0.175244  \n",
      "13   0.252341   0.202300   0.210421  \n",
      "14   0.252208   0.200156   0.197461  \n",
      "15   0.251332   0.200598   0.186674  \n",
      "16   0.251502   0.203269   0.232374  \n",
      "17   0.251046   0.204207   0.186925  \n",
      "18   0.249854   0.197451   0.243114  \n",
      "19   0.250320   0.195437   0.209650  \n",
      "20   0.253076   0.205159   0.241465  \n",
      "21   0.254508   0.205500   0.254428  \n",
      "22   0.251222   0.200171   0.184560  \n",
      "23   0.248850   0.198312   0.201843  \n",
      "24   0.265643   0.191800   0.170223  \n",
      "25   0.266896   0.193434   0.241758  \n",
      "26   0.269508   0.197897   0.167157  \n",
      "27   0.270846   0.201703   0.149875  \n",
      "28   0.274478   0.205204   0.181389  \n",
      "29   0.265267   0.190228   0.154225  \n",
      "..        ...        ...        ...  \n",
      "329  0.298976   0.224788   0.696334  \n",
      "330  0.314521   0.276586   0.662153  \n",
      "331  0.296427   0.280124   0.550324  \n",
      "332  0.304863   0.253801   0.633999  \n",
      "333  0.303846   0.282766   0.646899  \n",
      "334  0.306576   0.253504   0.660572  \n",
      "335  0.315979   0.263805   0.671107  \n",
      "336  0.316286   0.269575   0.705704  \n",
      "337  0.284264   0.261767   0.612065  \n",
      "338  0.285302   0.276086   0.686902  \n",
      "339  0.284688   0.297278   0.700509  \n",
      "340  0.269985   0.258530   0.565704  \n",
      "341  0.300634   0.270469   0.681636  \n",
      "342  0.308444   0.283290   0.657808  \n",
      "343  0.299573   0.271500   0.665526  \n",
      "344  0.327260   0.302796   0.599501  \n",
      "345  0.332773   0.299824   0.629697  \n",
      "346  0.324602   0.309611   0.685364  \n",
      "347  0.318094   0.290259   0.712021  \n",
      "348  0.330327   0.286220   0.718119  \n",
      "349  0.293143   0.243830   0.682915  \n",
      "350  0.324227   0.282492   0.723861  \n",
      "351  0.299686   0.275577   0.706025  \n",
      "352  0.314875   0.303845   0.712627  \n",
      "353  0.313849   0.288269   0.698344  \n",
      "354  0.326974   0.270511   0.695831  \n",
      "355  0.332953   0.337898   0.612652  \n",
      "356  0.324060   0.339915   0.666659  \n",
      "357  0.286782   0.271768   0.655888  \n",
      "358  0.267662   0.248193   0.636186  \n",
      "\n",
      "[6014 rows x 10 columns]\n"
     ]
    }
   ],
   "source": [
    "# Use numpy to convert to arrays\n",
    "import numpy as np\n",
    "# Labels are the values we want to predict\n",
    "labels = np.array(features['ClassID'])\n",
    "# Remove the labels from the features\n",
    "# axis 1 refers to the columns\n",
    "features= features.drop('Class', axis = 1)\n",
    "#features= features.drop('FID', axis = 1)\n",
    "features= features.drop('ClassID', axis = 1)\n",
    "features= features.drop('Id', axis = 1)\n",
    "# Saving feature names for later use\n",
    "feature_list = list(features.columns)\n",
    "# Convert to numpy array\n",
    "print(features)\n",
    "features = np.array(features)"
   ]
  },
  {
   "cell_type": "code",
   "execution_count": 7,
   "metadata": {},
   "outputs": [],
   "source": [
    "# Using Skicit-learn to split data into training and testing sets\n",
    "from sklearn.model_selection import train_test_split\n",
    "# Split the data into training and testing sets\n",
    "X_train, X_test, y_train, y_test = train_test_split(features, labels, test_size = 0.25, random_state = 40)"
   ]
  },
  {
   "cell_type": "code",
   "execution_count": 8,
   "metadata": {},
   "outputs": [
    {
     "name": "stdout",
     "output_type": "stream",
     "text": [
      "Training Features Shape: (4510, 10)\n",
      "Training Labels Shape: (4510,)\n",
      "Testing Features Shape: (1504, 10)\n",
      "Testing Labels Shape: (1504,)\n"
     ]
    }
   ],
   "source": [
    "print('Training Features Shape:', X_train.shape)\n",
    "print('Training Labels Shape:', y_train.shape)\n",
    "print('Testing Features Shape:', X_test.shape)\n",
    "print('Testing Labels Shape:', y_test.shape)"
   ]
  },
  {
   "cell_type": "code",
   "execution_count": 9,
   "metadata": {},
   "outputs": [
    {
     "name": "stderr",
     "output_type": "stream",
     "text": [
      "C:\\Users\\GraceLiu\\Anaconda3\\lib\\site-packages\\sklearn\\ensemble\\forest.py:453: UserWarning: Some inputs do not have OOB scores. This probably means too few trees were used to compute any reliable oob estimates.\n",
      "  warn(\"Some inputs do not have OOB scores. \"\n",
      "C:\\Users\\GraceLiu\\Anaconda3\\lib\\site-packages\\sklearn\\ensemble\\forest.py:458: RuntimeWarning: invalid value encountered in true_divide\n",
      "  predictions[k].sum(axis=1)[:, np.newaxis])\n"
     ]
    }
   ],
   "source": [
    "from sklearn import model_selection\n",
    "# Import the model we are using\n",
    "from sklearn.ensemble import RandomForestClassifier\n",
    "# random forest model creation\n",
    "rfc = RandomForestClassifier(oob_score=True)\n",
    "rfc.fit(X_train,y_train)\n",
    "# predictions\n",
    "rfc_predict = rfc.predict(X_test)"
   ]
  },
  {
   "cell_type": "code",
   "execution_count": 10,
   "metadata": {},
   "outputs": [
    {
     "name": "stdout",
     "output_type": "stream",
     "text": [
      "=== Confusion Matrix ===\n",
      "[[170   4   5   0   0   3   0]\n",
      " [  6 149   7   3   1  13   1]\n",
      " [  4   0 268   2   0   0   0]\n",
      " [  0   3   2 188   0   4   3]\n",
      " [  0   0   0   0 274   1   3]\n",
      " [  6   8   2   3   0 149   1]\n",
      " [  2   4   0   7   1   2 205]]\n",
      "\n",
      "\n",
      "=== Classification Report ===\n",
      "             precision    recall  f1-score   support\n",
      "\n",
      "          1       0.90      0.93      0.92       182\n",
      "          2       0.89      0.83      0.86       180\n",
      "          3       0.94      0.98      0.96       274\n",
      "          4       0.93      0.94      0.93       200\n",
      "          5       0.99      0.99      0.99       278\n",
      "          6       0.87      0.88      0.87       169\n",
      "          7       0.96      0.93      0.94       221\n",
      "\n",
      "avg / total       0.93      0.93      0.93      1504\n",
      "\n",
      "\n",
      "\n",
      "Our OOB prediction of accuracy is: 89.95565410199556%\n"
     ]
    }
   ],
   "source": [
    "from sklearn.model_selection import cross_val_score\n",
    "from sklearn.metrics import classification_report, confusion_matrix\n",
    "import sklearn\n",
    "y = sklearn.preprocessing.label_binarize(labels, classes=[1, 2, 3, 4, 5])\n",
    "X = features\n",
    "#rfc_cv_score = cross_val_score(rfc,X, y, cv=2, scoring='roc_auc')\n",
    "print(\"=== Confusion Matrix ===\")\n",
    "print(confusion_matrix(y_test, rfc_predict))\n",
    "print('\\n')\n",
    "print(\"=== Classification Report ===\")\n",
    "print(classification_report(y_test, rfc_predict))\n",
    "print('\\n')\n",
    "# print(\"=== All AUC Scores ===\")\n",
    "# print(rfc_cv_score)\n",
    "# print('\\n')\n",
    "# print(\"=== Mean AUC Score ===\")\n",
    "# print(\"Mean AUC Score - Random Forest: \", rfc_cv_score.mean())\n",
    "print('Our OOB prediction of accuracy is: {oob}%'.format(oob=rfc.oob_score_ * 100))"
   ]
  },
  {
   "cell_type": "code",
   "execution_count": 11,
   "metadata": {},
   "outputs": [
    {
     "name": "stdout",
     "output_type": "stream",
     "text": [
      "Fitting 3 folds for each of 100 candidates, totalling 300 fits\n"
     ]
    },
    {
     "name": "stderr",
     "output_type": "stream",
     "text": [
      "[Parallel(n_jobs=-1)]: Done  25 tasks      | elapsed:  1.4min\n",
      "[Parallel(n_jobs=-1)]: Done 146 tasks      | elapsed:  6.5min\n",
      "[Parallel(n_jobs=-1)]: Done 300 out of 300 | elapsed: 14.9min finished\n"
     ]
    },
    {
     "name": "stdout",
     "output_type": "stream",
     "text": [
      "{'n_estimators': 1400, 'max_features': 'auto', 'max_depth': 260}\n"
     ]
    }
   ],
   "source": [
    "from sklearn.model_selection import RandomizedSearchCV\n",
    "# number of trees in random forest\n",
    "n_estimators = [int(x) for x in np.linspace(start = 200, stop = 2000, num = 10)]\n",
    "# number of features at every split\n",
    "max_features = ['auto', 'sqrt']\n",
    "\n",
    "# max depth\n",
    "max_depth = [int(x) for x in np.linspace(100, 500, num = 11)]\n",
    "max_depth.append(None)\n",
    "# create random grid\n",
    "random_grid = {\n",
    " 'n_estimators': n_estimators,\n",
    " 'max_features': max_features,\n",
    " 'max_depth': max_depth\n",
    " }\n",
    "# Random search of parameters\n",
    "rfc_random = RandomizedSearchCV(estimator = rfc, param_distributions = random_grid, n_iter = 100, cv = 3, verbose=2, random_state=42, n_jobs = -1)\n",
    "# Fit the model\n",
    "rfc_random.fit(X_train, y_train)\n",
    "# print results\n",
    "print(rfc_random.best_params_)"
   ]
  },
  {
   "cell_type": "code",
   "execution_count": 14,
   "metadata": {},
   "outputs": [
    {
     "name": "stdout",
     "output_type": "stream",
     "text": [
      "=== Confusion Matrix (test) ===\n",
      "[[172   3   4   0   0   3   0]\n",
      " [  4 154   4   4   1  12   1]\n",
      " [  1   1 270   2   0   0   0]\n",
      " [  0   3   1 188   1   4   3]\n",
      " [  0   0   0   0 275   1   2]\n",
      " [  5   9   0   3   0 151   1]\n",
      " [  0   4   1   4   1   3 208]]\n",
      "\n",
      "\n",
      "=== Confusion Matrix (train) ===\n",
      "[[511   0   0   0   0   0   0]\n",
      " [  0 514   0   0   0   0   0]\n",
      " [  0   0 841   0   0   0   0]\n",
      " [  0   0   0 617   0   0   0]\n",
      " [  0   0   0   0 848   0   0]\n",
      " [  0   0   0   0   0 529   0]\n",
      " [  0   0   0   0   0   0 650]]\n",
      "\n",
      "\n",
      "=== Classification Report ===\n",
      "             precision    recall  f1-score   support\n",
      "\n",
      "          1       0.95      0.95      0.95       182\n",
      "          2       0.89      0.86      0.87       180\n",
      "          3       0.96      0.99      0.97       274\n",
      "          4       0.94      0.94      0.94       200\n",
      "          5       0.99      0.99      0.99       278\n",
      "          6       0.87      0.89      0.88       169\n",
      "          7       0.97      0.94      0.95       221\n",
      "\n",
      "avg / total       0.94      0.94      0.94      1504\n",
      "\n",
      "\n",
      "\n",
      "Our OOB prediction of accuracy is: 94.7450110864745%\n"
     ]
    }
   ],
   "source": [
    "rfc = RandomForestClassifier(n_estimators = 1400,#rfc_random.best_params_['n_estimators'],\n",
    "                             max_features = 'auto',#rfc_random.best_params_['max_features'],\n",
    "                             max_depth = 260,#rfc_random.best_params_['max_depth'],\n",
    "                             oob_score=True)\n",
    "rfc.fit(X_train,y_train)\n",
    "rfc_predict = rfc.predict(X_test)\n",
    "rfc_predict_train = rfc.predict(X_train)\n",
    "print(\"=== Confusion Matrix (test) ===\")\n",
    "print(confusion_matrix(y_test, rfc_predict))\n",
    "print('\\n')\n",
    "print(\"=== Confusion Matrix (train) ===\")\n",
    "print(confusion_matrix(y_train, rfc_predict_train))\n",
    "print('\\n')\n",
    "print(\"=== Classification Report ===\")\n",
    "print(classification_report(y_test, rfc_predict))\n",
    "print('\\n')\n",
    "print('Our OOB prediction of accuracy is: {oob}%'.format(oob=rfc.oob_score_ * 100))"
   ]
  },
  {
   "cell_type": "code",
   "execution_count": 15,
   "metadata": {},
   "outputs": [
    {
     "name": "stdout",
     "output_type": "stream",
     "text": [
      "Fitting 3 folds for each of 100 candidates, totalling 300 fits\n"
     ]
    },
    {
     "name": "stderr",
     "output_type": "stream",
     "text": [
      "[Parallel(n_jobs=-1)]: Done  25 tasks      | elapsed:   58.8s\n",
      "[Parallel(n_jobs=-1)]: Done 146 tasks      | elapsed:  5.6min\n",
      "[Parallel(n_jobs=-1)]: Done 300 out of 300 | elapsed: 11.5min finished\n"
     ]
    },
    {
     "name": "stdout",
     "output_type": "stream",
     "text": [
      "{'n_estimators': 2000, 'max_features': 'auto', 'max_depth': 300}\n"
     ]
    }
   ],
   "source": [
    "# Fit the model\n",
    "rfc_random.fit(features, labels)\n",
    "# print results\n",
    "print(rfc_random.best_params_)"
   ]
  },
  {
   "cell_type": "code",
   "execution_count": 16,
   "metadata": {},
   "outputs": [
    {
     "name": "stdout",
     "output_type": "stream",
     "text": [
      "Our OOB prediction of accuracy for the full model is: 95.12803458596608%\n"
     ]
    }
   ],
   "source": [
    "rfc_full = RandomForestClassifier(n_estimators = 2000,#rfc_random.best_params_['n_estimators'],\n",
    "                                  max_features ='auto',# rfc_random.best_params_['max_features'],\n",
    "                                  max_depth = 300,#rfc_random.best_params_['max_depth'],\n",
    "                                  oob_score=True)\n",
    "rfc_full.fit(features,labels)\n",
    "print('Our OOB prediction of accuracy for the full model is: {oob}%'.format(oob=rfc_full.oob_score_ * 100))"
   ]
  },
  {
   "cell_type": "code",
   "execution_count": 15,
   "metadata": {},
   "outputs": [],
   "source": [
    "import os\n",
    "# Import tools needed for visualization\n",
    "from sklearn.tree import export_graphviz\n",
    "import pydot\n",
    "# Pull out one tree from the forest\n",
    "tree = rfc.estimators_[5]\n",
    "# Pull out one tree from the forest\n",
    "tree = rfc.estimators_[5]\n",
    "# Export the image to a dot file\n",
    "export_graphviz(tree, out_file = 'Tree.dot', feature_names = feature_list, rounded = True, precision = 1)\n",
    "# Use dot file to create a graph\n",
    "(graph, ) = pydot.graph_from_dot_file('Tree.dot')\n",
    "# Write graph to a png file\n",
    "graph.write_png(os.path.join(Output_dir,'Tree.tif'))"
   ]
  },
  {
   "cell_type": "code",
   "execution_count": 19,
   "metadata": {},
   "outputs": [],
   "source": [
    "# Pull out one tree from the full forest\n",
    "tree = rfc_full.estimators_[5]\n",
    "# Import tools needed for visualization\n",
    "from sklearn.tree import export_graphviz\n",
    "import pydot\n",
    "# Pull out one tree from the forest\n",
    "tree = rfc_full.estimators_[5]\n",
    "# Export the image to a dot file\n",
    "export_graphviz(tree, out_file = 'Tree_full.dot', feature_names = feature_list, rounded = True, precision = 1)\n",
    "# Use dot file to create a graph\n",
    "(graph, ) = pydot.graph_from_dot_file('Tree_full.dot')\n",
    "# Write graph to a png file\n",
    "graph.write_png(os.path.join(Output_dir,'Tree_full.png'))"
   ]
  },
  {
   "cell_type": "code",
   "execution_count": 17,
   "metadata": {},
   "outputs": [
    {
     "name": "stdout",
     "output_type": "stream",
     "text": [
      "Variable: VegHeight            Importance: 0.2\n",
      "Variable: sUAS_NDVI            Importance: 0.14\n",
      "Variable: NIR                  Importance: 0.12\n",
      "Variable: Red                  Importance: 0.09\n",
      "Variable: NDVI_May             Importance: 0.09\n",
      "Variable: Blue                 Importance: 0.08\n",
      "Variable: Green                Importance: 0.08\n",
      "Variable: NDVI_April           Importance: 0.08\n",
      "Variable: Rededge              Importance: 0.07\n",
      "Variable: NDVI_June            Importance: 0.05\n"
     ]
    }
   ],
   "source": [
    "# Get numerical feature importances\n",
    "importances = list(rfc.feature_importances_)\n",
    "# List of tuples with variable and importance\n",
    "feature_importances = [(feature, round(importance, 2)) for feature, importance in zip(feature_list, importances)]\n",
    "# Sort the feature importances by most important first\n",
    "feature_importances = sorted(feature_importances, key = lambda x: x[1], reverse = True)\n",
    "# Print out the feature and importances \n",
    "[print('Variable: {:20} Importance: {}'.format(*pair)) for pair in feature_importances];"
   ]
  },
  {
   "cell_type": "code",
   "execution_count": 18,
   "metadata": {},
   "outputs": [
    {
     "data": {
      "image/png": "[encoded data removed]",
      "text/plain": [
       "<Figure size 432x288 with 1 Axes>"
      ]
     },
     "metadata": {},
     "output_type": "display_data"
    }
   ],
   "source": [
    "# Import matplotlib for plotting and use magic command for Jupyter Notebooks\n",
    "import matplotlib.pyplot as plt\n",
    "%matplotlib inline\n",
    "# Set the style\n",
    "plt.style.use('fivethirtyeight')\n",
    "# list of x locations for plotting\n",
    "x_values = list(range(len(importances)))\n",
    "# Make a bar chart\n",
    "plt.bar(x_values, importances, orientation = 'vertical')\n",
    "# Tick labels for x axis\n",
    "plt.xticks(x_values, feature_list, rotation='vertical')\n",
    "# Axis labels and title\n",
    "plt.ylabel('Importance'); plt.xlabel('Variable'); plt.title('Variable Importances');"
   ]
  },
  {
   "cell_type": "code",
   "execution_count": 26,
   "metadata": {},
   "outputs": [
    {
     "name": "stdout",
     "output_type": "stream",
     "text": [
      "Test score: 100.00 %\n"
     ]
    }
   ],
   "source": [
    "# # saving full model\n",
    "# from sklearn.externals import joblib\n",
    "# # Save to file in the current working directory\n",
    "# joblib_file = os.path.join(Output_dir,'RFmodel_10b_full.pickle')\n",
    "# joblib.dump(rfc_full, joblib_file)\n",
    "\n",
    "# # Load from file\n",
    "# joblib_model = joblib.load(joblib_file)\n",
    "\n",
    "# # Calculate the accuracy and predictions\n",
    "# score = joblib_model.score(X_test, y_test)  \n",
    "# print(\"Test score: {0:.2f} %\".format(100 * score))  "
   ]
  },
  {
   "cell_type": "code",
   "execution_count": 20,
   "metadata": {},
   "outputs": [],
   "source": [
    "# saving full model using pickle\n",
    "import os\n",
    "import pickle\n",
    "# Save to file in the current working directory\n",
    "pkl_filename = os.path.join(Output_dir,'RFmodel_10b_full_V2.pickle')\n",
    "with open(pkl_filename, 'wb') as file:  \n",
    "    pickle.dump(rfc_full, file)\n",
    "# # Load from file\n",
    "# with open(pkl_filename, 'rb') as file:  \n",
    "#     pickle_model = pickle.load(file)\n",
    "\n",
    "# # Calculate the accuracy score and predict target values\n",
    "# score = pickle_model.score(X_test, y_test)  \n",
    "# print(\"Test score: {0:.2f} %\".format(100 * score))   "
   ]
  },
  {
   "cell_type": "code",
   "execution_count": 21,
   "metadata": {},
   "outputs": [],
   "source": [
    "# Predicting the rest of the image\n",
    "from osgeo import gdal, gdal_array\n",
    "import osr\n",
    "def raster2array(rasterfn,i):\n",
    "    raster = gdal.Open(rasterfn)\n",
    "    band = raster.GetRasterBand(i)\n",
    "    return band.ReadAsArray()\n",
    "def array2raster(rasterfn,newRasterfn,array):\n",
    "    raster = gdal.Open(rasterfn)\n",
    "    geotransform = raster.GetGeoTransform()\n",
    "    originX = geotransform[0]\n",
    "    originY = geotransform[3]\n",
    "    pixelWidth = geotransform[1]\n",
    "    pixelHeight = geotransform[5]\n",
    "    cols = raster.RasterXSize\n",
    "    rows = raster.RasterYSize\n",
    "    driver = gdal.GetDriverByName('GTiff')\n",
    "    outRaster = driver.Create(newRasterfn, cols, rows, 1, gdal.GDT_Float32)\n",
    "    outRaster.SetGeoTransform((originX, pixelWidth, 0, originY, 0, pixelHeight))\n",
    "    outband = outRaster.GetRasterBand(1)\n",
    "    outband.WriteArray(array)\n",
    "    outRasterSRS = osr.SpatialReference()\n",
    "    outRasterSRS.ImportFromWkt(raster.GetProjectionRef())\n",
    "    outRaster.SetProjection(outRasterSRS.ExportToWkt())\n",
    "    \n"
   ]
  },
  {
   "cell_type": "code",
   "execution_count": 22,
   "metadata": {},
   "outputs": [
    {
     "name": "stdout",
     "output_type": "stream",
     "text": [
      "working on D:/Box Sync/research/Leslie/Classification_sUAS\\Ashley_Fire\\Raster\\II_StackedInput\\Input_Ashley_Fire.tif\n",
      "Reshaped from (5491, 6673, 10) to (36641443, 10)\n"
     ]
    },
    {
     "name": "stderr",
     "output_type": "stream",
     "text": [
      "C:\\Users\\GraceLiu\\Anaconda3\\lib\\site-packages\\numpy\\core\\_methods.py:32: RuntimeWarning: overflow encountered in reduce\n",
      "  return umr_sum(a, axis, dtype, out, keepdims)\n"
     ]
    },
    {
     "name": "stdout",
     "output_type": "stream",
     "text": [
      "working on D:/Box Sync/research/Leslie/Classification_sUAS\\Blue_Door_Fire\\Raster\\II_StackedInput\\Input_Blue_Door_Fire.tif\n",
      "Reshaped from (5577, 4548, 10) to (25364196, 10)\n",
      "working on D:/Box Sync/research/Leslie/Classification_sUAS\\Blue_Fire\\Raster\\II_StackedInput\\Input_Blue_Fire.tif\n",
      "Reshaped from (4084, 5653, 10) to (23086852, 10)\n",
      "working on D:/Box Sync/research/Leslie/Classification_sUAS\\Horse_Fire_North\\Raster\\II_StackedInput\\Input_Horse_Fire_North.tif\n",
      "Reshaped from (5840, 7601, 10) to (44389840, 10)\n",
      "working on D:/Box Sync/research/Leslie/Classification_sUAS\\Horse_Fire_South\\Raster\\II_StackedInput\\Input_Horse_Fire_South.tif\n",
      "Reshaped from (5932, 7105, 10) to (42146860, 10)\n",
      "working on D:/Box Sync/research/Leslie/Classification_sUAS\\Horse_Lake_Fire\\Raster\\II_StackedInput\\Input_Horse_Lake_Fire.tif\n",
      "Reshaped from (6758, 4244, 10) to (28680952, 10)\n",
      "working on D:/Box Sync/research/Leslie/Classification_sUAS\\Nelson_Fire\\Raster\\II_StackedInput\\Input_Nelson_Fire.tif\n",
      "Reshaped from (6805, 6375, 10) to (43381875, 10)\n",
      "working on D:/Box Sync/research/Leslie/Classification_sUAS\\Rush_Fire\\Raster\\II_StackedInput\\Input_Rush_Fire.tif\n",
      "Reshaped from (4868, 5671, 10) to (27606428, 10)\n",
      "working on D:/Box Sync/research/Leslie/Classification_sUAS\\Scorpion_Fire\\Raster\\II_StackedInput\\Input_Scorpion_Fire.tif\n",
      "Reshaped from (4786, 8005, 10) to (38311930, 10)\n"
     ]
    }
   ],
   "source": [
    "# Read in training data table and display first 5 rows\n",
    "#Sites = ['Rush_Fire']#,'Ashley_Fire','Blue_Door_Fire','Blue_Fire','Horse_Fire_North','Horse_Fire_South','Horse_Lake_Fire','Nelson_Fire','Scorpion_Fire']        \n",
    "Files = glob.glob(Input_Raster_dir + '/**/Input_*.tif', recursive=True)\n",
    "for file in Files:\n",
    "    print('working on ' + file )\n",
    "    site = os.path.basename(file)[6:-4]\n",
    "    img_ds = gdal.Open(file, gdal.GA_ReadOnly)\n",
    "    img = np.zeros((img_ds.RasterYSize, img_ds.RasterXSize, img_ds.RasterCount),\n",
    "                   gdal_array.GDALTypeCodeToNumericTypeCode(img_ds.GetRasterBand(1).DataType))\n",
    "    for i in np.arange(img_ds.RasterCount):\n",
    "        img[:,:,i] = raster2array(file,int(i)+1)\n",
    "    # Take our full image, ignore the Fmask band, and reshape into long 2d array (nrow * ncol, nband) for classification\n",
    "    new_shape = (img.shape[0] * img.shape[1], img.shape[2])\n",
    "    img_as_array = img[:, :, :].reshape(new_shape)\n",
    "    print('Reshaped from {o} to {n}'.format(o=img.shape,\n",
    "                                            n=img_as_array.shape))\n",
    "    # Now predict for each pixel\n",
    "    class_prediction = rfc_full.predict(img_as_array)\n",
    "    # Reshape our classification map\n",
    "    class_prediction = class_prediction.reshape(img[:, :, 0].shape)\n",
    "    # Set example dir for meta data\n",
    "    Example_dir = glob.glob(os.path.join(Input_Raster_dir,site,'Raster','I_Cliped','*Multispectral_NDVI.tif'))[0]\n",
    "    # Set the output dir\n",
    "    Classification_dir = os.path.join(Input_Raster_dir,site,'Raster','III_Classification')\n",
    "    if not os.path.exists(Classification_dir):\n",
    "        os.makedirs(Classification_dir)\n",
    "    array2raster(Example_dir,\n",
    "                os.path.join(Classification_dir,site+'_RFClass_V2.tif'),\n",
    "                class_prediction)"
   ]
  },
  {
   "cell_type": "code",
   "execution_count": 23,
   "metadata": {},
   "outputs": [
    {
     "data": {
      "image/png": "[encoded data removed]",
      "text/plain": [
       "<Figure size 432x288 with 1 Axes>"
      ]
     },
     "metadata": {},
     "output_type": "display_data"
    }
   ],
   "source": [
    "## visiualization\n",
    "# plt.imshow(class_prediction, interpolation='none')\n",
    "# plt.show()"
   ]
  }
 ],
 "metadata": {
  "kernelspec": {
   "display_name": "Python 3",
   "language": "python",
   "name": "python3"
  },
  "language_info": {
   "codemirror_mode": {
    "name": "ipython",
    "version": 3
   },
   "file_extension": ".py",
   "mimetype": "text/x-python",
   "name": "python",
   "nbconvert_exporter": "python",
   "pygments_lexer": "ipython3",
   "version": "3.6.5"
  }
 },
 "nbformat": 4,
 "nbformat_minor": 2
}
